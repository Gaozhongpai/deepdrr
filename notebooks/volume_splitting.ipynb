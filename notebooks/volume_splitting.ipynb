{
 "cells": [
  {
   "cell_type": "code",
   "execution_count": 5,
   "metadata": {},
   "outputs": [
    {
     "name": "stdout",
     "output_type": "stream",
     "text": [
      "The autoreload extension is already loaded. To reload it, use:\n",
      "  %reload_ext autoreload\n"
     ]
    }
   ],
   "source": [
    "%load_ext autoreload\n",
    "%autoreload 2"
   ]
  },
  {
   "cell_type": "code",
   "execution_count": 6,
   "metadata": {},
   "outputs": [
    {
     "name": "stdout",
     "output_type": "stream",
     "text": [
      "Jupyter environment detected. Enabling Open3D WebVisualizer.\n",
      "[Open3D INFO] WebRTC GUI backend enabled.\n",
      "[Open3D INFO] WebRTCWindowSystem: HTTP handshake server disabled.\n"
     ]
    }
   ],
   "source": [
    "import numpy as np\n",
    "import skimage.io as io\n",
    "\n",
    "from PIL import Image\n",
    "\n",
    "import matplotlib.pyplot as plt\n",
    "\n",
    "import numpy as np\n",
    "import matplotlib.pyplot as plt\n",
    "from scipy import ndimage as ndi\n",
    "\n",
    "from skimage.segmentation import watershed\n",
    "from skimage.feature import peak_local_max\n",
    "\n",
    "import cv2\n",
    "\n",
    "from pathlib import Path\n",
    "\n",
    "import sklearn.feature_extraction\n",
    "import sklearn.feature_extraction\n",
    "from skimage.segmentation import expand_labels, watershed\n",
    "import skimage.morphology\n",
    "\n",
    "from sklearn.cluster import spectral_clustering\n",
    "\n",
    "from skimage import morphology\n",
    "\n",
    "\n",
    "import deepdrr\n",
    "from deepdrr import Volume\n",
    "from deepdrr import geo\n",
    "from deepdrr.utils import test_utils\n",
    "\n",
    "import nibabel as nib"
   ]
  },
  {
   "cell_type": "code",
   "execution_count": 7,
   "metadata": {},
   "outputs": [],
   "source": [
    "# unique ops\n",
    "\n",
    "# crop - done\n",
    "# split loose - done\n",
    "# dilate - done\n",
    "# erode - done\n",
    "# downscale 2x - done\n",
    "# upscale 2x - done\n",
    "# spectral cluster - done\n",
    "# mode blur - done"
   ]
  },
  {
   "cell_type": "code",
   "execution_count": 8,
   "metadata": {},
   "outputs": [
    {
     "name": "stdout",
     "output_type": "stream",
     "text": [
      "/home/pelvisvr/PrephixData/ct_datasets/PrephixNMDID/nifti/BONE_H-N-UXT_3X3/case-100065/segmentations/heart.nii.gz\n",
      "True\n"
     ]
    }
   ],
   "source": [
    "# vol_path = Path(\"/home/pelvisvr/PrephixData/ct_datasets/PrephixNMDID/nifti/BONE_H-N-UXT_3X3/case-100065/segmentations/pulmonary_vein.nii.gz\")\n",
    "vol_path = Path(\"/home/pelvisvr/PrephixData/ct_datasets/PrephixNMDID/nifti/BONE_H-N-UXT_3X3/case-100065/segmentations/heart.nii.gz\")\n",
    "print(vol_path)\n",
    "print(vol_path.exists())\n"
   ]
  },
  {
   "cell_type": "code",
   "execution_count": 9,
   "metadata": {},
   "outputs": [
    {
     "data": {
      "text/plain": [
       "<deepdrr.vol.volume.Volume at 0x7faaecb8a2c0>"
      ]
     },
     "execution_count": 9,
     "metadata": {},
     "output_type": "execute_result"
    }
   ],
   "source": [
    "vol = Volume.from_nifti(vol_path, segmentation=True)\n",
    "vol"
   ]
  },
  {
   "cell_type": "code",
   "execution_count": 10,
   "metadata": {},
   "outputs": [
    {
     "data": {
      "text/plain": [
       "(512, 512, 236)"
      ]
     },
     "execution_count": 10,
     "metadata": {},
     "output_type": "execute_result"
    }
   ],
   "source": [
    "vol.shape"
   ]
  },
  {
   "cell_type": "code",
   "execution_count": 11,
   "metadata": {},
   "outputs": [
    {
     "name": "stdout",
     "output_type": "stream",
     "text": [
      "(-80.154296875, 62.287109375, -179.62200927734375, -68.05950927734375, -486.5, -375.5)\n"
     ]
    }
   ],
   "source": [
    "vol_poly = vol.isosurface(decimation=0, smooth_iter=0, smooth=False,)\n",
    "vol_poly.save(\"mesh.stl\")\n",
    "print(vol_poly.bounds)"
   ]
  },
  {
   "cell_type": "code",
   "execution_count": 12,
   "metadata": {},
   "outputs": [],
   "source": [
    "vol_cropped = vol.shrink(padding=5)"
   ]
  },
  {
   "cell_type": "code",
   "execution_count": 13,
   "metadata": {},
   "outputs": [
    {
     "data": {
      "text/plain": [
       "(152, 121, 46)"
      ]
     },
     "execution_count": 13,
     "metadata": {},
     "output_type": "execute_result"
    }
   ],
   "source": [
    "vol_cropped.shape"
   ]
  },
  {
   "cell_type": "code",
   "execution_count": 14,
   "metadata": {},
   "outputs": [
    {
     "name": "stdout",
     "output_type": "stream",
     "text": [
      "(-80.154296875, 62.287109375, -179.62200927734375, -68.05950927734375, -486.5, -375.5)\n"
     ]
    }
   ],
   "source": [
    "vol_poly = vol_cropped.isosurface(decimation=0, smooth_iter=0, smooth=False,)\n",
    "vol_poly.save(\"cropped_mesh.stl\")\n",
    "print(vol_poly.bounds)\n"
   ]
  },
  {
   "cell_type": "code",
   "execution_count": 15,
   "metadata": {},
   "outputs": [],
   "source": [
    "bodies = vol_cropped.split_bodies()"
   ]
  },
  {
   "cell_type": "code",
   "execution_count": 16,
   "metadata": {},
   "outputs": [],
   "source": [
    "vol_data = vol_cropped.data\n",
    "\n",
    "# vol_data = morphology.binary_erosion(vol_data, footprint=morphology.ball(5))\n",
    "vol_data = morphology.binary_dilation(vol_data, footprint=morphology.ball(5))"
   ]
  },
  {
   "cell_type": "code",
   "execution_count": 17,
   "metadata": {},
   "outputs": [],
   "source": [
    "float_labels = vol_data.astype(np.float32)\n",
    "nii = nib.Nifti1Image(float_labels, np.eye(4))\n",
    "nib.save(nii, 'asdfas2.nii.gz')"
   ]
  },
  {
   "cell_type": "code",
   "execution_count": 18,
   "metadata": {},
   "outputs": [
    {
     "data": {
      "text/plain": [
       "(152, 121, 46)"
      ]
     },
     "execution_count": 18,
     "metadata": {},
     "output_type": "execute_result"
    }
   ],
   "source": [
    "body = bodies[0]\n",
    "\n",
    "body.shape"
   ]
  },
  {
   "cell_type": "code",
   "execution_count": 19,
   "metadata": {},
   "outputs": [
    {
     "name": "stdout",
     "output_type": "stream",
     "text": [
      "(152, 121, 46)\n"
     ]
    }
   ],
   "source": [
    "body_shrunk = body.shrink(padding=5)\n",
    "print(body_shrunk.shape)"
   ]
  },
  {
   "cell_type": "code",
   "execution_count": 20,
   "metadata": {},
   "outputs": [
    {
     "name": "stdout",
     "output_type": "stream",
     "text": [
      "(51, 41, 46)\n"
     ]
    }
   ],
   "source": [
    "shrunk_downscaled = body_shrunk.downscale((3,3,1), segmentation=True)\n",
    "print(shrunk_downscaled.shape)\n",
    "\n",
    "float_labels = shrunk_downscaled.data.astype(np.float32)\n",
    "nii = nib.Nifti1Image(float_labels, np.eye(4))\n",
    "nib.save(nii, 'asdfas3.nii.gz')"
   ]
  },
  {
   "cell_type": "code",
   "execution_count": 21,
   "metadata": {},
   "outputs": [],
   "source": [
    "segmented = shrunk_downscaled.cluster_seg(segmentation=True, n_clusters=9, expand=10)\n",
    "\n",
    "float_labels = segmented.data.astype(np.float32)\n",
    "nii = nib.Nifti1Image(float_labels, np.eye(4))\n",
    "nib.save(nii, 'asdfas4.nii.gz')"
   ]
  },
  {
   "cell_type": "code",
   "execution_count": 24,
   "metadata": {},
   "outputs": [],
   "source": [
    "segmented_upscaled = segmented.upscale((3,3,1), segmentation=True, smooth_seg=(3,3,3))\n",
    "\n",
    "float_labels = segmented_upscaled.data.astype(np.float32)\n",
    "nii = nib.Nifti1Image(float_labels, np.eye(4))\n",
    "nib.save(nii, 'asdfas5.nii.gz')"
   ]
  },
  {
   "cell_type": "code",
   "execution_count": 26,
   "metadata": {},
   "outputs": [
    {
     "name": "stdout",
     "output_type": "stream",
     "text": [
      "(153, 123, 46)\n",
      "(152, 121, 46)\n"
     ]
    }
   ],
   "source": [
    "print(segmented_upscaled.shape)\n",
    "print(body_shrunk.shape)"
   ]
  },
  {
   "cell_type": "code",
   "execution_count": 28,
   "metadata": {},
   "outputs": [
    {
     "name": "stdout",
     "output_type": "stream",
     "text": [
      "9\n"
     ]
    }
   ],
   "source": [
    "split_parts = body_shrunk.split_by_segmentation(segmented_upscaled.data)\n",
    "print(len(split_parts))"
   ]
  },
  {
   "cell_type": "code",
   "execution_count": 31,
   "metadata": {},
   "outputs": [],
   "source": [
    "# # make an isosurface for each part\n",
    "# for i, part in enumerate(split_parts):\n",
    "#     part_poly = part.isosurface(decimation=0, smooth_iter=0, smooth=False,)\n",
    "#     part_poly.save(f\"part_{i}.stl\")\n",
    "\n",
    "# zip parts\n",
    "import zipfile\n",
    "with zipfile.ZipFile(\"parts.zip\", \"w\") as zf:\n",
    "    for i, part in enumerate(split_parts):\n",
    "        part_poly = part.isosurface(decimation=0, smooth_iter=0, smooth=False,)\n",
    "        part_poly.save(f\"part_{i}.stl\")\n",
    "        zf.write(f\"part_{i}.stl\")"
   ]
  },
  {
   "cell_type": "code",
   "execution_count": null,
   "metadata": {},
   "outputs": [],
   "source": [
    "# shrunk_upscaled = shrunk_downscaled.upscale((4,4,2), segmentation=True)\n",
    "# print(shrunk_upscaled.shape)"
   ]
  }
 ],
 "metadata": {
  "kernelspec": {
   "display_name": "deepdrr",
   "language": "python",
   "name": "python3"
  },
  "language_info": {
   "codemirror_mode": {
    "name": "ipython",
    "version": 3
   },
   "file_extension": ".py",
   "mimetype": "text/x-python",
   "name": "python",
   "nbconvert_exporter": "python",
   "pygments_lexer": "ipython3",
   "version": "3.10.13"
  }
 },
 "nbformat": 4,
 "nbformat_minor": 2
}
