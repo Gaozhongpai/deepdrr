{
 "cells": [
  {
   "cell_type": "code",
   "execution_count": 1,
   "metadata": {},
   "outputs": [],
   "source": [
    "%load_ext autoreload\n",
    "%autoreload 2"
   ]
  },
  {
   "cell_type": "code",
   "execution_count": 2,
   "metadata": {},
   "outputs": [
    {
     "name": "stdout",
     "output_type": "stream",
     "text": [
      "Jupyter environment detected. Enabling Open3D WebVisualizer.\n",
      "[Open3D INFO] WebRTC GUI backend enabled.\n",
      "[Open3D INFO] WebRTCWindowSystem: HTTP handshake server disabled.\n"
     ]
    }
   ],
   "source": [
    "import numpy as np\n",
    "import skimage.io as io\n",
    "\n",
    "from PIL import Image\n",
    "\n",
    "import matplotlib.pyplot as plt\n",
    "\n",
    "import numpy as np\n",
    "import matplotlib.pyplot as plt\n",
    "from scipy import ndimage as ndi\n",
    "\n",
    "from skimage.segmentation import watershed\n",
    "from skimage.feature import peak_local_max\n",
    "\n",
    "import cv2\n",
    "\n",
    "from pathlib import Path\n",
    "\n",
    "import sklearn.feature_extraction\n",
    "import sklearn.feature_extraction\n",
    "from skimage.segmentation import expand_labels, watershed\n",
    "import skimage.morphology\n",
    "\n",
    "from sklearn.cluster import spectral_clustering\n",
    "\n",
    "from skimage import morphology\n",
    "\n",
    "\n",
    "import deepdrr\n",
    "from deepdrr import Volume\n",
    "from deepdrr import geo\n",
    "from deepdrr.utils import test_utils\n",
    "\n",
    "import nibabel as nib"
   ]
  },
  {
   "cell_type": "code",
   "execution_count": 3,
   "metadata": {},
   "outputs": [],
   "source": [
    "# unique ops\n",
    "\n",
    "# crop - done\n",
    "# split loose - done\n",
    "# dilate - done\n",
    "# erode - done\n",
    "# downscale 2x - done\n",
    "# upscale 2x - done\n",
    "# spectral cluster - done\n",
    "# mode blur - done"
   ]
  },
  {
   "cell_type": "code",
   "execution_count": 4,
   "metadata": {},
   "outputs": [
    {
     "name": "stdout",
     "output_type": "stream",
     "text": [
      "/home/pelvisvr/PrephixData/ct_datasets/PrephixNMDID/nifti/BONE_H-N-UXT_3X3/case-100065/segmentations/skull.nii.gz\n",
      "True\n",
      "/home/pelvisvr/PrephixData/ct_meshes/PrephixNMDID/nifti/BONE_H-N-UXT_3X3/case-100065/segmentations/skull.stl\n",
      "True\n"
     ]
    }
   ],
   "source": [
    "# vol_path = Path(\"/home/pelvisvr/PrephixData/ct_datasets/PrephixNMDID/nifti/BONE_H-N-UXT_3X3/case-100065/segmentations/pulmonary_vein.nii.gz\")\n",
    "vol_path = Path(\"/home/pelvisvr/PrephixData/ct_datasets/PrephixNMDID/nifti/BONE_H-N-UXT_3X3/case-100065/segmentations/skull.nii.gz\")\n",
    "print(vol_path)\n",
    "print(vol_path.exists())\n",
    "\n",
    "mesh_path = Path(\"/home/pelvisvr/PrephixData/ct_meshes/PrephixNMDID/nifti/BONE_H-N-UXT_3X3/case-100065/segmentations/skull.stl\")\n",
    "print(mesh_path)\n",
    "print(mesh_path.exists())"
   ]
  },
  {
   "cell_type": "code",
   "execution_count": 5,
   "metadata": {},
   "outputs": [
    {
     "data": {
      "text/plain": [
       "<deepdrr.vol.volume.Volume at 0x7adf16aa58a0>"
      ]
     },
     "execution_count": 5,
     "metadata": {},
     "output_type": "execute_result"
    }
   ],
   "source": [
    "vol = Volume.from_nifti(vol_path, segmentation=True)\n",
    "vol"
   ]
  },
  {
   "cell_type": "code",
   "execution_count": 6,
   "metadata": {},
   "outputs": [
    {
     "data": {
      "text/plain": [
       "(512, 512, 236)"
      ]
     },
     "execution_count": 6,
     "metadata": {},
     "output_type": "execute_result"
    }
   ],
   "source": [
    "vol.shape"
   ]
  },
  {
   "cell_type": "code",
   "execution_count": 7,
   "metadata": {},
   "outputs": [
    {
     "name": "stdout",
     "output_type": "stream",
     "text": [
      "(-27.361328125, 123.048828125, -247.35638427734375, -2.31732177734375, -642.5, -30.5)\n"
     ]
    }
   ],
   "source": [
    "vol_poly = vol.isosurface(decimation=0, smooth_iter=0, smooth=False,)\n",
    "vol_poly.save(\"mesh.stl\")\n",
    "print(vol_poly.bounds)"
   ]
  },
  {
   "cell_type": "code",
   "execution_count": 8,
   "metadata": {},
   "outputs": [],
   "source": [
    "vol_cropped = vol.shrink(padding=5)"
   ]
  },
  {
   "cell_type": "code",
   "execution_count": 9,
   "metadata": {},
   "outputs": [
    {
     "data": {
      "text/plain": [
       "(160, 255, 213)"
      ]
     },
     "execution_count": 9,
     "metadata": {},
     "output_type": "execute_result"
    }
   ],
   "source": [
    "vol_cropped.shape"
   ]
  },
  {
   "cell_type": "code",
   "execution_count": 10,
   "metadata": {},
   "outputs": [
    {
     "name": "stdout",
     "output_type": "stream",
     "text": [
      "(-27.361328125, 123.048828125, -247.35638427734375, -2.31732177734375, -642.5, -30.5)\n"
     ]
    }
   ],
   "source": [
    "vol_poly = vol_cropped.isosurface(decimation=0, smooth_iter=0, smooth=False,)\n",
    "vol_poly.save(\"cropped_mesh.stl\")\n",
    "print(vol_poly.bounds)\n"
   ]
  },
  {
   "cell_type": "code",
   "execution_count": 11,
   "metadata": {},
   "outputs": [],
   "source": [
    "bodies = vol_cropped.split_bodies()"
   ]
  },
  {
   "cell_type": "code",
   "execution_count": 12,
   "metadata": {},
   "outputs": [],
   "source": [
    "vol_data = vol_cropped.data\n",
    "\n",
    "# vol_data = morphology.binary_erosion(vol_data, footprint=morphology.ball(5))\n",
    "vol_data = morphology.binary_dilation(vol_data, footprint=morphology.ball(5))"
   ]
  },
  {
   "cell_type": "code",
   "execution_count": 13,
   "metadata": {},
   "outputs": [],
   "source": [
    "float_labels = vol_data.astype(np.float32)\n",
    "nii = nib.Nifti1Image(float_labels, np.eye(4))\n",
    "nib.save(nii, 'asdfas2.nii.gz')"
   ]
  },
  {
   "cell_type": "code",
   "execution_count": 14,
   "metadata": {},
   "outputs": [
    {
     "data": {
      "text/plain": [
       "(160, 255, 213)"
      ]
     },
     "execution_count": 14,
     "metadata": {},
     "output_type": "execute_result"
    }
   ],
   "source": [
    "body = bodies[0]\n",
    "\n",
    "body.shape"
   ]
  },
  {
   "cell_type": "code",
   "execution_count": 15,
   "metadata": {},
   "outputs": [
    {
     "name": "stdout",
     "output_type": "stream",
     "text": [
      "(160, 216, 79)\n"
     ]
    }
   ],
   "source": [
    "body_shrunk = body.shrink(padding=5)\n",
    "print(body_shrunk.shape)"
   ]
  },
  {
   "cell_type": "code",
   "execution_count": 16,
   "metadata": {},
   "outputs": [
    {
     "name": "stdout",
     "output_type": "stream",
     "text": [
      "(54, 72, 79)\n"
     ]
    }
   ],
   "source": [
    "shrunk_downscaled = body_shrunk.downscale((3,3,1), segmentation=True)\n",
    "print(shrunk_downscaled.shape)\n",
    "\n",
    "float_labels = shrunk_downscaled.data.astype(np.float32)\n",
    "nii = nib.Nifti1Image(float_labels, np.eye(4))\n",
    "nib.save(nii, 'asdfas3.nii.gz')"
   ]
  },
  {
   "cell_type": "code",
   "execution_count": 17,
   "metadata": {},
   "outputs": [
    {
     "name": "stderr",
     "output_type": "stream",
     "text": [
      "/home/pelvisvr/mambaforge/envs/prephix/lib/python3.10/site-packages/sklearn/manifold/_spectral_embedding.py:285: UserWarning: Graph is not fully connected, spectral embedding may not work as expected.\n",
      "  warnings.warn(\n"
     ]
    }
   ],
   "source": [
    "segmented = shrunk_downscaled.cluster_seg(segmentation=True, n_clusters=9, expand=10)\n",
    "\n",
    "float_labels = segmented.data.astype(np.float32)\n",
    "nii = nib.Nifti1Image(float_labels, np.eye(4))\n",
    "nib.save(nii, 'asdfas4.nii.gz')"
   ]
  },
  {
   "cell_type": "code",
   "execution_count": 18,
   "metadata": {},
   "outputs": [],
   "source": [
    "segmented_upscaled = segmented.upscale((3,3,1), segmentation=True, smooth_seg=(3,3,3))\n",
    "\n",
    "float_labels = segmented_upscaled.data.astype(np.float32)\n",
    "nii = nib.Nifti1Image(float_labels, np.eye(4))\n",
    "nib.save(nii, 'asdfas5.nii.gz')"
   ]
  },
  {
   "cell_type": "code",
   "execution_count": 19,
   "metadata": {},
   "outputs": [
    {
     "name": "stdout",
     "output_type": "stream",
     "text": [
      "(162, 216, 79)\n",
      "(160, 216, 79)\n"
     ]
    }
   ],
   "source": [
    "print(segmented_upscaled.shape)\n",
    "print(body_shrunk.shape)"
   ]
  },
  {
   "cell_type": "code",
   "execution_count": 20,
   "metadata": {},
   "outputs": [
    {
     "name": "stdout",
     "output_type": "stream",
     "text": [
      "9\n"
     ]
    }
   ],
   "source": [
    "split_segs = segmented_upscaled.split_seg()\n",
    "print(len(split_segs))"
   ]
  },
  {
   "cell_type": "code",
   "execution_count": 61,
   "metadata": {},
   "outputs": [],
   "source": [
    "part_surfaces = [seg.isosurface(decimation=0, smooth_iter=0, smooth=False,convert_to_LPS=True) for seg in split_segs]"
   ]
  },
  {
   "cell_type": "code",
   "execution_count": 62,
   "metadata": {},
   "outputs": [],
   "source": [
    "import zipfile\n",
    "with zipfile.ZipFile(\"parts.zip\", \"w\") as zf:\n",
    "    for i, part in enumerate(part_surfaces):\n",
    "        part.save(f\"part_{i}.stl\")\n",
    "        zf.write(f\"part_{i}.stl\")"
   ]
  },
  {
   "cell_type": "code",
   "execution_count": 63,
   "metadata": {},
   "outputs": [],
   "source": [
    "# pv load mesh_path\n",
    "import pyvista as pv\n",
    "mesh = pv.read(str(mesh_path))\n",
    "\n",
    "# save to whole.stl\n",
    "mesh.save(\"whole.stl\")"
   ]
  },
  {
   "cell_type": "code",
   "execution_count": 64,
   "metadata": {},
   "outputs": [
    {
     "name": "stdout",
     "output_type": "stream",
     "text": [
      "(-128.029296875, 33.337890625, 177.62982177734375, 252.33685302734375, -222.5, -18.5)\n"
     ]
    }
   ],
   "source": [
    "print(part_surfaces[0].bounds)"
   ]
  },
  {
   "cell_type": "code",
   "execution_count": 65,
   "metadata": {},
   "outputs": [
    {
     "name": "stdout",
     "output_type": "stream",
     "text": [
      "(-122.7006607055664, 26.0391845703125, 4.282985687255859, 246.35723876953125, -640.7942504882812, -30.562864303588867)\n"
     ]
    }
   ],
   "source": [
    "print(mesh.bounds)"
   ]
  },
  {
   "cell_type": "code",
   "execution_count": 66,
   "metadata": {},
   "outputs": [],
   "source": [
    "result = mesh.boolean_intersection(part_surfaces[0])\n"
   ]
  },
  {
   "cell_type": "code",
   "execution_count": 67,
   "metadata": {},
   "outputs": [
    {
     "data": {
      "text/html": [
       "<table style='width: 100%;'><tr><th>Header</th><th>Data Arrays</th></tr><tr><td>\n",
       "<table style='width: 100%;'>\n",
       "<tr><th>PolyData</th><th>Information</th></tr>\n",
       "<tr><td>N Cells</td><td>15999</td></tr>\n",
       "<tr><td>N Points</td><td>10303</td></tr>\n",
       "<tr><td>N Strips</td><td>0</td></tr>\n",
       "<tr><td>X Bounds</td><td>-1.201e+02, 1.237e+01</td></tr>\n",
       "<tr><td>Y Bounds</td><td>1.820e+02, 2.464e+02</td></tr>\n",
       "<tr><td>Z Bounds</td><td>-1.954e+02, -4.323e+01</td></tr>\n",
       "<tr><td>N Arrays</td><td>8</td></tr>\n",
       "</table>\n",
       "\n",
       "</td><td>\n",
       "<table style='width: 100%;'>\n",
       "<tr><th>Name</th><th>Field</th><th>Type</th><th>N Comp</th><th>Min</th><th>Max</th></tr>\n",
       "<tr><td><b>Distance</b></td><td>Points</td><td>float64</td><td>1</td><td>-3.078e+01</td><td>1.455e+00</td></tr>\n",
       "<tr><td>Normals</td><td>Points</td><td>float32</td><td>3</td><td>-6.442e+01</td><td>6.718e+01</td></tr>\n",
       "<tr><td>PointSource</td><td>Points</td><td>int32</td><td>1</td><td>0.000e+00</td><td>1.000e+00</td></tr>\n",
       "<tr><td>BadTriangle</td><td>Cells</td><td>int32</td><td>1</td><td>0.000e+00</td><td>2.000e+00</td></tr>\n",
       "<tr><td><b>Distance</b></td><td>Cells</td><td>float64</td><td>1</td><td>-3.118e+01</td><td>2.820e-06</td></tr>\n",
       "<tr><td>FreeEdge</td><td>Cells</td><td>int32</td><td>1</td><td>0.000e+00</td><td>0.000e+00</td></tr>\n",
       "<tr><td>Normals</td><td>Cells</td><td>float32</td><td>3</td><td>-1.000e+00</td><td>1.000e+00</td></tr>\n",
       "<tr><td>CellSource</td><td>Cells</td><td>int32</td><td>1</td><td>0.000e+00</td><td>1.000e+00</td></tr>\n",
       "</table>\n",
       "\n",
       "</td></tr> </table>"
      ],
      "text/plain": [
       "PolyData (0x7add908c02e0)\n",
       "  N Cells:    15999\n",
       "  N Points:   10303\n",
       "  N Strips:   0\n",
       "  X Bounds:   -1.201e+02, 1.237e+01\n",
       "  Y Bounds:   1.820e+02, 2.464e+02\n",
       "  Z Bounds:   -1.954e+02, -4.323e+01\n",
       "  N Arrays:   8"
      ]
     },
     "execution_count": 67,
     "metadata": {},
     "output_type": "execute_result"
    }
   ],
   "source": [
    "result"
   ]
  },
  {
   "cell_type": "code",
   "execution_count": 78,
   "metadata": {},
   "outputs": [
    {
     "name": "stdout",
     "output_type": "stream",
     "text": [
      "[[-122.70066071    4.28298569 -640.79425049]\n",
      " [  26.03918457  246.35723877  -30.5628643 ]]\n",
      "[[ -71.25195312   37.18060303 -189.5       ]\n",
      " [  21.38476562  105.91107178  -93.5       ]]\n",
      "[[ -54.31835938   81.00872803 -225.5       ]\n",
      " [  33.33789062  246.36029053  -66.5       ]]\n",
      "[[ -26.42773438   37.18060303 -255.5       ]\n",
      " [  33.33789062  157.70794678 -141.5       ]]\n",
      "[[-116.07617188   37.18060303 -255.5       ]\n",
      " [  -2.52148438  144.75872803 -156.5       ]]\n",
      "[[-128.02929688   43.15716553 -180.5       ]\n",
      " [ -56.31054688  109.89544678  -99.5       ]]\n",
      "[[-128.02929688  177.62982178 -222.5       ]\n",
      " [  33.33789062  252.33685303  -18.5       ]]\n",
      "[[-128.02929688   87.98138428 -234.5       ]\n",
      " [ -29.41601562  241.37982178  -69.5       ]]\n",
      "[[-128.02929688   37.18060303 -141.5       ]\n",
      " [  33.33789062  223.45013428  -18.5       ]]\n",
      "[[ -19.45507812   52.12200928 -168.5       ]\n",
      " [  33.33789062  124.83685303  -84.5       ]]\n",
      "split_7.stl\n",
      "split_5.stl\n",
      "split_4.stl\n",
      "split_2.stl\n",
      "split_1.stl\n",
      "split_6.stl\n",
      "split_3.stl\n",
      "split_0.stl\n",
      "split_8.stl\n"
     ]
    }
   ],
   "source": [
    "# load mesh\n",
    "import trimesh\n",
    "mesh = trimesh.load_mesh(mesh_path)\n",
    "\n",
    "split_meshes = list(Path(\".\").glob(\"part_*.stl\"))\n",
    "print(mesh.bounds)\n",
    "\n",
    "for i, surf in enumerate(split_meshes):\n",
    "    surf = trimesh.load_mesh(surf)\n",
    "    # boolean intersection\n",
    "    print(surf.bounds)\n",
    "    split = mesh.intersection(surf, engine=\"manifold\")\n",
    "    # save split mesh\n",
    "    split.export(f\"split_{i}.stl\")\n",
    "\n",
    "import zipfile\n",
    "with zipfile.ZipFile(\"split.zip\", \"w\") as zf:\n",
    "    # glob for split meshes\n",
    "    split_meshes = Path(\".\").glob(\"split_*.stl\")\n",
    "    for split_mesh in split_meshes:\n",
    "        zf.write(split_mesh)\n",
    "        print(split_mesh)\n"
   ]
  },
  {
   "cell_type": "code",
   "execution_count": 60,
   "metadata": {},
   "outputs": [
    {
     "name": "stdout",
     "output_type": "stream",
     "text": [
      "[ 33.33789062 124.83685303 -84.5       ] [ -19.45507812   52.12200928 -168.5       ]\n",
      "[ 26.03918457 246.35723877 -30.5628643 ] [-122.70066071    4.28298569 -640.79425049]\n"
     ]
    }
   ],
   "source": [
    "print(np.max(surf.vertices, axis=0), np.min(surf.vertices, axis=0))\n",
    "print(np.max(mesh.vertices, axis=0), np.min(mesh.vertices, axis=0))"
   ]
  },
  {
   "cell_type": "code",
   "execution_count": 79,
   "metadata": {},
   "outputs": [
    {
     "name": "stdout",
     "output_type": "stream",
     "text": [
      "9\n"
     ]
    }
   ],
   "source": [
    "split_parts = body_shrunk.split_by_segmentation(segmented_upscaled.data)\n",
    "print(len(split_parts))"
   ]
  },
  {
   "cell_type": "code",
   "execution_count": 80,
   "metadata": {},
   "outputs": [],
   "source": [
    "# # make an isosurface for each part\n",
    "# for i, part in enumerate(split_parts):\n",
    "#     part_poly = part.isosurface(decimation=0, smooth_iter=0, smooth=False,)\n",
    "#     part_poly.save(f\"part_{i}.stl\")\n",
    "\n",
    "# zip parts\n",
    "import zipfile\n",
    "with zipfile.ZipFile(\"parts.zip\", \"w\") as zf:\n",
    "    for i, part in enumerate(split_parts):\n",
    "        part_poly = part.isosurface(decimation_points=20000,smooth=False,convert_to_LPS=True,)\n",
    "        # part_poly = part.isosurface(decimation=0, smooth_iter=0, smooth=False,)\n",
    "        part_poly.save(f\"part_{i}.stl\")\n",
    "        zf.write(f\"part_{i}.stl\")"
   ]
  },
  {
   "cell_type": "code",
   "execution_count": null,
   "metadata": {},
   "outputs": [],
   "source": [
    "# shrunk_upscaled = shrunk_downscaled.upscale((4,4,2), segmentation=True)\n",
    "# print(shrunk_upscaled.shape)"
   ]
  }
 ],
 "metadata": {
  "kernelspec": {
   "display_name": "deepdrr",
   "language": "python",
   "name": "python3"
  },
  "language_info": {
   "codemirror_mode": {
    "name": "ipython",
    "version": 3
   },
   "file_extension": ".py",
   "mimetype": "text/x-python",
   "name": "python",
   "nbconvert_exporter": "python",
   "pygments_lexer": "ipython3",
   "version": "3.10.13"
  }
 },
 "nbformat": 4,
 "nbformat_minor": 2
}
