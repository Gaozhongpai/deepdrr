{
 "cells": [
  {
   "cell_type": "code",
   "execution_count": 1,
   "metadata": {},
   "outputs": [],
   "source": [
    "%load_ext autoreload\n",
    "%autoreload 2"
   ]
  },
  {
   "cell_type": "code",
   "execution_count": 2,
   "metadata": {},
   "outputs": [
    {
     "name": "stdout",
     "output_type": "stream",
     "text": [
      "Jupyter environment detected. Enabling Open3D WebVisualizer.\n",
      "[Open3D INFO] WebRTC GUI backend enabled.\n",
      "[Open3D INFO] WebRTCWindowSystem: HTTP handshake server disabled.\n"
     ]
    }
   ],
   "source": [
    "import numpy as np\n",
    "import skimage.io as io\n",
    "\n",
    "from PIL import Image\n",
    "\n",
    "import matplotlib.pyplot as plt\n",
    "\n",
    "import numpy as np\n",
    "import matplotlib.pyplot as plt\n",
    "from scipy import ndimage as ndi\n",
    "\n",
    "from skimage.segmentation import watershed\n",
    "from skimage.feature import peak_local_max\n",
    "\n",
    "import cv2\n",
    "\n",
    "from pathlib import Path\n",
    "\n",
    "import sklearn.feature_extraction\n",
    "import sklearn.feature_extraction\n",
    "from skimage.segmentation import expand_labels, watershed\n",
    "import skimage.morphology\n",
    "\n",
    "from sklearn.cluster import spectral_clustering\n",
    "\n",
    "from skimage import morphology\n",
    "\n",
    "\n",
    "import deepdrr\n",
    "from deepdrr import Volume\n",
    "from deepdrr import geo\n",
    "from deepdrr.utils import test_utils\n",
    "\n",
    "import nibabel as nib"
   ]
  },
  {
   "cell_type": "code",
   "execution_count": 4,
   "metadata": {},
   "outputs": [
    {
     "name": "stdout",
     "output_type": "stream",
     "text": [
      "/home/pelvisvr/PrephixData/ct_datasets/PrephixNMDID/nifti/BONE_H-N-UXT_3X3/case-100065/segmentations/skull.nii.gz\n",
      "True\n",
      "/home/pelvisvr/PrephixData/ct_meshes/PrephixNMDID/nifti/BONE_H-N-UXT_3X3/case-100065/segmentations/skull.stl\n",
      "True\n"
     ]
    }
   ],
   "source": [
    "# vol_path = Path(\"/home/pelvisvr/PrephixData/ct_datasets/PrephixNMDID/nifti/BONE_H-N-UXT_3X3/case-100065/segmentations/pulmonary_vein.nii.gz\")\n",
    "vol_path = Path(\"/home/pelvisvr/PrephixData/ct_datasets/PrephixNMDID/nifti/BONE_H-N-UXT_3X3/case-100065/segmentations/skull.nii.gz\")\n",
    "mesh_path = Path(\"/home/pelvisvr/PrephixData/ct_meshes/PrephixNMDID/nifti/BONE_H-N-UXT_3X3/case-100065/segmentations/skull.stl\")"
   ]
  },
  {
   "cell_type": "code",
   "execution_count": 5,
   "metadata": {},
   "outputs": [
    {
     "data": {
      "text/plain": [
       "<deepdrr.vol.volume.Volume at 0x7adf16aa58a0>"
      ]
     },
     "execution_count": 5,
     "metadata": {},
     "output_type": "execute_result"
    }
   ],
   "source": [
    "vol = Volume.from_nifti(vol_path, segmentation=True)\n",
    "vol.shape\n",
    "vol_poly = vol.isosurface(decimation=0, smooth_iter=0, smooth=False,)\n",
    "vol_poly.save(\"mesh.stl\")\n",
    "print(vol_poly.bounds)\n",
    "vol_cropped = vol.shrink(padding=5)\n",
    "vol_cropped.shape\n",
    "vol_poly = vol_cropped.isosurface(decimation=0, smooth_iter=0, smooth=False,)\n",
    "vol_poly.save(\"cropped_mesh.stl\")\n",
    "print(vol_poly.bounds)\n",
    "\n",
    "bodies = vol_cropped.split_bodies()\n",
    "vol_data = vol_cropped.data\n",
    "\n",
    "# vol_data = morphology.binary_erosion(vol_data, footprint=morphology.ball(5))\n",
    "vol_data = morphology.binary_dilation(vol_data, footprint=morphology.ball(5))\n",
    "float_labels = vol_data.astype(np.float32)\n",
    "nii = nib.Nifti1Image(float_labels, np.eye(4))\n",
    "nib.save(nii, 'asdfas2.nii.gz')\n",
    "body = bodies[0]\n",
    "\n",
    "body.shape\n",
    "body_shrunk = body.shrink(padding=5)\n",
    "print(body_shrunk.shape)\n",
    "shrunk_downscaled = body_shrunk.downscale((3,3,1), segmentation=True)\n",
    "print(shrunk_downscaled.shape)\n",
    "\n",
    "float_labels = shrunk_downscaled.data.astype(np.float32)\n",
    "nii = nib.Nifti1Image(float_labels, np.eye(4))\n",
    "nib.save(nii, 'asdfas3.nii.gz')\n",
    "segmented = shrunk_downscaled.cluster_seg(segmentation=True, n_clusters=9, expand=10)\n",
    "\n",
    "float_labels = segmented.data.astype(np.float32)\n",
    "nii = nib.Nifti1Image(float_labels, np.eye(4))\n",
    "nib.save(nii, 'asdfas4.nii.gz')\n",
    "segmented_upscaled = segmented.upscale((3,3,1), segmentation=True, smooth_seg=(3,3,3))\n",
    "\n",
    "float_labels = segmented_upscaled.data.astype(np.float32)\n",
    "nii = nib.Nifti1Image(float_labels, np.eye(4))\n",
    "nib.save(nii, 'asdfas5.nii.gz')\n",
    "print(segmented_upscaled.shape)\n",
    "print(body_shrunk.shape)\n",
    "split_parts = body_shrunk.split_by_segmentation(segmented_upscaled.data)\n",
    "print(len(split_parts))"
   ]
  },
  {
   "cell_type": "code",
   "execution_count": 81,
   "metadata": {},
   "outputs": [],
   "source": [
    "# zip parts\n",
    "import zipfile\n",
    "with zipfile.ZipFile(\"parts.zip\", \"w\") as zf:\n",
    "    for i, part in enumerate(split_parts):\n",
    "        part_poly = part.isosurface(decimation_points=20000,smooth=False,convert_to_LPS=True,)\n",
    "        # part_poly = part.isosurface(decimation=0, smooth_iter=0, smooth=False,)\n",
    "        part_poly.save(f\"part_{i}.stl\")\n",
    "        zf.write(f\"part_{i}.stl\")"
   ]
  }
 ],
 "metadata": {
  "kernelspec": {
   "display_name": "deepdrr",
   "language": "python",
   "name": "python3"
  },
  "language_info": {
   "codemirror_mode": {
    "name": "ipython",
    "version": 3
   },
   "file_extension": ".py",
   "mimetype": "text/x-python",
   "name": "python",
   "nbconvert_exporter": "python",
   "pygments_lexer": "ipython3",
   "version": "3.10.13"
  }
 },
 "nbformat": 4,
 "nbformat_minor": 2
}
