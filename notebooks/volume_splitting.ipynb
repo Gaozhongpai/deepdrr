{
 "cells": [
  {
   "cell_type": "code",
   "execution_count": 1,
   "metadata": {},
   "outputs": [],
   "source": [
    "%load_ext autoreload\n",
    "%autoreload 2"
   ]
  },
  {
   "cell_type": "code",
   "execution_count": 2,
   "metadata": {},
   "outputs": [
    {
     "name": "stdout",
     "output_type": "stream",
     "text": [
      "Jupyter environment detected. Enabling Open3D WebVisualizer.\n",
      "[Open3D INFO] WebRTC GUI backend enabled.\n",
      "[Open3D INFO] WebRTCWindowSystem: HTTP handshake server disabled.\n"
     ]
    }
   ],
   "source": [
    "import numpy as np\n",
    "import skimage.io as io\n",
    "\n",
    "from PIL import Image\n",
    "\n",
    "import matplotlib.pyplot as plt\n",
    "\n",
    "import numpy as np\n",
    "import matplotlib.pyplot as plt\n",
    "from scipy import ndimage as ndi\n",
    "\n",
    "from skimage.segmentation import watershed\n",
    "from skimage.feature import peak_local_max\n",
    "\n",
    "import cv2\n",
    "\n",
    "from pathlib import Path\n",
    "\n",
    "import sklearn.feature_extraction\n",
    "import sklearn.feature_extraction\n",
    "from skimage.segmentation import expand_labels, watershed\n",
    "import skimage.morphology\n",
    "\n",
    "from sklearn.cluster import spectral_clustering\n",
    "\n",
    "from skimage import morphology\n",
    "\n",
    "\n",
    "import deepdrr\n",
    "from deepdrr import Volume\n",
    "from deepdrr import geo\n",
    "from deepdrr.utils import test_utils\n",
    "\n",
    "import nibabel as nib"
   ]
  },
  {
   "cell_type": "code",
   "execution_count": 3,
   "metadata": {},
   "outputs": [],
   "source": [
    "# unique ops\n",
    "\n",
    "# crop - done\n",
    "# split loose - done\n",
    "# dilate - done\n",
    "# erode - done\n",
    "# downscale 2x - done\n",
    "# upscale 2x - done\n",
    "# spectral cluster - done\n",
    "# mode blur - done"
   ]
  },
  {
   "cell_type": "code",
   "execution_count": 4,
   "metadata": {},
   "outputs": [
    {
     "name": "stdout",
     "output_type": "stream",
     "text": [
      "/home/pelvisvr/PrephixData/ct_datasets/PrephixNMDID/nifti/BONE_H-N-UXT_3X3/case-100065/segmentations/skull.nii.gz\n",
      "True\n",
      "/home/pelvisvr/PrephixData/ct_meshes/PrephixNMDID/nifti/BONE_H-N-UXT_3X3/case-100065/segmentations/skull.stl\n",
      "True\n"
     ]
    }
   ],
   "source": [
    "# vol_path = Path(\"/home/pelvisvr/PrephixData/ct_datasets/PrephixNMDID/nifti/BONE_H-N-UXT_3X3/case-100065/segmentations/pulmonary_vein.nii.gz\")\n",
    "vol_path = Path(\"/home/pelvisvr/PrephixData/ct_datasets/PrephixNMDID/nifti/BONE_H-N-UXT_3X3/case-100065/segmentations/skull.nii.gz\")\n",
    "print(vol_path)\n",
    "print(vol_path.exists())\n",
    "\n",
    "mesh_path = Path(\"/home/pelvisvr/PrephixData/ct_meshes/PrephixNMDID/nifti/BONE_H-N-UXT_3X3/case-100065/segmentations/skull.stl\")\n",
    "print(mesh_path)\n",
    "print(mesh_path.exists())"
   ]
  },
  {
   "cell_type": "code",
   "execution_count": 5,
   "metadata": {},
   "outputs": [
    {
     "data": {
      "text/plain": [
       "<deepdrr.vol.volume.Volume at 0x7adf16aa58a0>"
      ]
     },
     "execution_count": 5,
     "metadata": {},
     "output_type": "execute_result"
    }
   ],
   "source": [
    "vol = Volume.from_nifti(vol_path, segmentation=True)\n",
    "vol"
   ]
  },
  {
   "cell_type": "code",
   "execution_count": 6,
   "metadata": {},
   "outputs": [
    {
     "data": {
      "text/plain": [
       "(512, 512, 236)"
      ]
     },
     "execution_count": 6,
     "metadata": {},
     "output_type": "execute_result"
    }
   ],
   "source": [
    "vol.shape"
   ]
  },
  {
   "cell_type": "code",
   "execution_count": 7,
   "metadata": {},
   "outputs": [
    {
     "name": "stdout",
     "output_type": "stream",
     "text": [
      "(-27.361328125, 123.048828125, -247.35638427734375, -2.31732177734375, -642.5, -30.5)\n"
     ]
    }
   ],
   "source": [
    "vol_poly = vol.isosurface(decimation=0, smooth_iter=0, smooth=False,)\n",
    "vol_poly.save(\"mesh.stl\")\n",
    "print(vol_poly.bounds)"
   ]
  },
  {
   "cell_type": "code",
   "execution_count": 8,
   "metadata": {},
   "outputs": [],
   "source": [
    "vol_cropped = vol.shrink(padding=5)"
   ]
  },
  {
   "cell_type": "code",
   "execution_count": 9,
   "metadata": {},
   "outputs": [
    {
     "data": {
      "text/plain": [
       "(160, 255, 213)"
      ]
     },
     "execution_count": 9,
     "metadata": {},
     "output_type": "execute_result"
    }
   ],
   "source": [
    "vol_cropped.shape"
   ]
  },
  {
   "cell_type": "code",
   "execution_count": 10,
   "metadata": {},
   "outputs": [
    {
     "name": "stdout",
     "output_type": "stream",
     "text": [
      "(-27.361328125, 123.048828125, -247.35638427734375, -2.31732177734375, -642.5, -30.5)\n"
     ]
    }
   ],
   "source": [
    "vol_poly = vol_cropped.isosurface(decimation=0, smooth_iter=0, smooth=False,)\n",
    "vol_poly.save(\"cropped_mesh.stl\")\n",
    "print(vol_poly.bounds)\n"
   ]
  },
  {
   "cell_type": "code",
   "execution_count": 11,
   "metadata": {},
   "outputs": [],
   "source": [
    "bodies = vol_cropped.split_bodies()"
   ]
  },
  {
   "cell_type": "code",
   "execution_count": 12,
   "metadata": {},
   "outputs": [],
   "source": [
    "vol_data = vol_cropped.data\n",
    "\n",
    "# vol_data = morphology.binary_erosion(vol_data, footprint=morphology.ball(5))\n",
    "vol_data = morphology.binary_dilation(vol_data, footprint=morphology.ball(5))"
   ]
  },
  {
   "cell_type": "code",
   "execution_count": 13,
   "metadata": {},
   "outputs": [],
   "source": [
    "float_labels = vol_data.astype(np.float32)\n",
    "nii = nib.Nifti1Image(float_labels, np.eye(4))\n",
    "nib.save(nii, 'asdfas2.nii.gz')"
   ]
  },
  {
   "cell_type": "code",
   "execution_count": 14,
   "metadata": {},
   "outputs": [
    {
     "data": {
      "text/plain": [
       "(160, 255, 213)"
      ]
     },
     "execution_count": 14,
     "metadata": {},
     "output_type": "execute_result"
    }
   ],
   "source": [
    "body = bodies[0]\n",
    "\n",
    "body.shape"
   ]
  },
  {
   "cell_type": "code",
   "execution_count": 15,
   "metadata": {},
   "outputs": [
    {
     "name": "stdout",
     "output_type": "stream",
     "text": [
      "(160, 216, 79)\n"
     ]
    }
   ],
   "source": [
    "body_shrunk = body.shrink(padding=5)\n",
    "print(body_shrunk.shape)"
   ]
  },
  {
   "cell_type": "code",
   "execution_count": 16,
   "metadata": {},
   "outputs": [
    {
     "name": "stdout",
     "output_type": "stream",
     "text": [
      "(54, 72, 79)\n"
     ]
    }
   ],
   "source": [
    "shrunk_downscaled = body_shrunk.downscale((3,3,1), segmentation=True)\n",
    "print(shrunk_downscaled.shape)\n",
    "\n",
    "float_labels = shrunk_downscaled.data.astype(np.float32)\n",
    "nii = nib.Nifti1Image(float_labels, np.eye(4))\n",
    "nib.save(nii, 'asdfas3.nii.gz')"
   ]
  },
  {
   "cell_type": "code",
   "execution_count": 17,
   "metadata": {},
   "outputs": [
    {
     "name": "stderr",
     "output_type": "stream",
     "text": [
      "/home/pelvisvr/mambaforge/envs/prephix/lib/python3.10/site-packages/sklearn/manifold/_spectral_embedding.py:285: UserWarning: Graph is not fully connected, spectral embedding may not work as expected.\n",
      "  warnings.warn(\n"
     ]
    }
   ],
   "source": [
    "segmented = shrunk_downscaled.cluster_seg(segmentation=True, n_clusters=9, expand=10)\n",
    "\n",
    "float_labels = segmented.data.astype(np.float32)\n",
    "nii = nib.Nifti1Image(float_labels, np.eye(4))\n",
    "nib.save(nii, 'asdfas4.nii.gz')"
   ]
  },
  {
   "cell_type": "code",
   "execution_count": 18,
   "metadata": {},
   "outputs": [],
   "source": [
    "segmented_upscaled = segmented.upscale((3,3,1), segmentation=True, smooth_seg=(3,3,3))\n",
    "\n",
    "float_labels = segmented_upscaled.data.astype(np.float32)\n",
    "nii = nib.Nifti1Image(float_labels, np.eye(4))\n",
    "nib.save(nii, 'asdfas5.nii.gz')"
   ]
  },
  {
   "cell_type": "code",
   "execution_count": 19,
   "metadata": {},
   "outputs": [
    {
     "name": "stdout",
     "output_type": "stream",
     "text": [
      "(162, 216, 79)\n",
      "(160, 216, 79)\n"
     ]
    }
   ],
   "source": [
    "print(segmented_upscaled.shape)\n",
    "print(body_shrunk.shape)"
   ]
  },
  {
   "cell_type": "code",
   "execution_count": 79,
   "metadata": {},
   "outputs": [
    {
     "name": "stdout",
     "output_type": "stream",
     "text": [
      "9\n"
     ]
    }
   ],
   "source": [
    "split_parts = body_shrunk.split_by_segmentation(segmented_upscaled.data)\n",
    "print(len(split_parts))"
   ]
  },
  {
   "cell_type": "code",
   "execution_count": 81,
   "metadata": {},
   "outputs": [],
   "source": [
    "# zip parts\n",
    "import zipfile\n",
    "with zipfile.ZipFile(\"parts.zip\", \"w\") as zf:\n",
    "    for i, part in enumerate(split_parts):\n",
    "        part_poly = part.isosurface(decimation_points=20000,smooth=False,convert_to_LPS=True,)\n",
    "        # part_poly = part.isosurface(decimation=0, smooth_iter=0, smooth=False,)\n",
    "        part_poly.save(f\"part_{i}.stl\")\n",
    "        zf.write(f\"part_{i}.stl\")"
   ]
  }
 ],
 "metadata": {
  "kernelspec": {
   "display_name": "deepdrr",
   "language": "python",
   "name": "python3"
  },
  "language_info": {
   "codemirror_mode": {
    "name": "ipython",
    "version": 3
   },
   "file_extension": ".py",
   "mimetype": "text/x-python",
   "name": "python",
   "nbconvert_exporter": "python",
   "pygments_lexer": "ipython3",
   "version": "3.10.13"
  }
 },
 "nbformat": 4,
 "nbformat_minor": 2
}
